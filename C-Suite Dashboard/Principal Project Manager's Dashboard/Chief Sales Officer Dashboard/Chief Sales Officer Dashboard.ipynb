{
 "cells": [
  {
   "cell_type": "code",
   "execution_count": 2,
   "metadata": {},
   "outputs": [
    {
     "name": "stdout",
     "output_type": "stream",
     "text": [
      "Data generated and saved to CSO_Dashboard_Data.xlsx\n"
     ]
    }
   ],
   "source": [
    "import pandas as pd\n",
    "import numpy as np\n",
    "import random\n",
    "from datetime import datetime, timedelta\n",
    "\n",
    "# Generate 2 years of weekly data\n",
    "start_date = datetime(2022, 1, 1)\n",
    "weeks = [start_date + timedelta(weeks=i) for i in range(104)]\n",
    "\n",
    "# Function to generate date breakdown\n",
    "def generate_date_info(weeks):\n",
    "    data = []\n",
    "    for week in weeks:\n",
    "        year = week.year\n",
    "        quarter = (week.month - 1) // 3 + 1\n",
    "        month = week.month\n",
    "        week_of_year = week.isocalendar()[1]\n",
    "        data.append({\"Year\": year, \"Quarter\": quarter, \"Month\": month, \"Week\": week_of_year, \"Date\": week})\n",
    "    return pd.DataFrame(data)\n",
    "\n",
    "date_info = generate_date_info(weeks)\n",
    "\n",
    "# Function to create random sales data\n",
    "def generate_sales_data(date_info):\n",
    "    data = date_info.copy()\n",
    "    data['Revenue'] = np.random.randint(50000, 200000, size=len(data))\n",
    "    data['Sales Volume'] = np.random.randint(100, 500, size=len(data))\n",
    "    data['Gross Profit'] = data['Revenue'] * np.random.uniform(0.3, 0.5, size=len(data))\n",
    "    data['Win Rate'] = np.random.uniform(0.2, 0.8, size=len(data))\n",
    "    data['Sales Pipeline Value'] = np.random.randint(100000, 500000, size=len(data))\n",
    "    return data\n",
    "\n",
    "# Create datasets for each slide\n",
    "datasets = {\n",
    "    \"Overview\": generate_sales_data(date_info),\n",
    "    \"Sales Performance\": generate_sales_data(date_info),\n",
    "    \"Product Performance\": generate_sales_data(date_info),\n",
    "    \"Customer Insights\": generate_sales_data(date_info),\n",
    "    \"Sales Pipeline & Forecast\": generate_sales_data(date_info),\n",
    "    \"Geographic Sales Performance\": generate_sales_data(date_info),\n",
    "    \"Activities & Productivity\": generate_sales_data(date_info),\n",
    "    \"Risk & Opportunities\": generate_sales_data(date_info),\n",
    "}\n",
    "\n",
    "# Add more specific fields to each slide's dataset\n",
    "def customize_datasets(datasets):\n",
    "    for name, df in datasets.items():\n",
    "        if name == \"Sales Performance\":\n",
    "            df[\"Team/Manager\"] = [random.choice([\"Team A\", \"Team B\", \"Team C\"]) for _ in range(len(df))]\n",
    "            df[\"Deals Closed\"] = np.random.randint(5, 30, size=len(df))\n",
    "            df[\"Avg Deal Size\"] = df[\"Revenue\"] / df[\"Deals Closed\"]\n",
    "        elif name == \"Product Performance\":\n",
    "            df[\"Product Name\"] = [random.choice([\"Product X\", \"Product Y\", \"Product Z\"]) for _ in range(len(df))]\n",
    "            df[\"Returns\"] = df[\"Sales Volume\"] * np.random.uniform(0.01, 0.05, size=len(df))\n",
    "        # Add specific customizations for other datasets if needed\n",
    "    return datasets\n",
    "\n",
    "datasets = customize_datasets(datasets)\n",
    "\n",
    "# Export datasets to Excel\n",
    "with pd.ExcelWriter(\"CSO_Dashboard_Data.xlsx\") as writer:\n",
    "    for sheet_name, dataset in datasets.items():\n",
    "        dataset.to_excel(writer, sheet_name=sheet_name, index=False)\n",
    "\n",
    "print(\"Data generated and saved to CSO_Dashboard_Data.xlsx\")\n"
   ]
  },
  {
   "cell_type": "code",
   "execution_count": 3,
   "metadata": {},
   "outputs": [
    {
     "name": "stdout",
     "output_type": "stream",
     "text": [
      "Data generated and saved to F:\\Flipcarbon\\11. November\\C-Suite Dashboards\\CSO_Dashboard_Data.xlsx\n"
     ]
    }
   ],
   "source": [
    "with pd.ExcelWriter(r\"F:\\Flipcarbon\\11. November\\C-Suite Dashboards\\CSO_Dashboard_Data.xlsx\") as writer:\n",
    "    for sheet_name, dataset in datasets.items():\n",
    "        dataset.to_excel(writer, sheet_name=sheet_name, index=False)\n",
    "\n",
    "print(\"Data generated and saved to F:\\\\Flipcarbon\\\\11. November\\\\C-Suite Dashboards\\\\CSO_Dashboard_Data.xlsx\")\n"
   ]
  }
 ],
 "metadata": {
  "kernelspec": {
   "display_name": "Python 3",
   "language": "python",
   "name": "python3"
  },
  "language_info": {
   "codemirror_mode": {
    "name": "ipython",
    "version": 3
   },
   "file_extension": ".py",
   "mimetype": "text/x-python",
   "name": "python",
   "nbconvert_exporter": "python",
   "pygments_lexer": "ipython3",
   "version": "3.12.4"
  }
 },
 "nbformat": 4,
 "nbformat_minor": 2
}
