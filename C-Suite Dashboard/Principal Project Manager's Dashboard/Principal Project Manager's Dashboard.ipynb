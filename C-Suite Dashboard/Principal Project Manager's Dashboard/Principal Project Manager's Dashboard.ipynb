{
 "cells": [
  {
   "cell_type": "code",
   "execution_count": 1,
   "metadata": {},
   "outputs": [
    {
     "name": "stdout",
     "output_type": "stream",
     "text": [
      "Excel file created with project manager dashboard data!\n"
     ]
    }
   ],
   "source": [
    "import pandas as pd\n",
    "import numpy as np\n",
    "from datetime import datetime, timedelta\n",
    "\n",
    "# Helper function to generate random data for each sheet\n",
    "def generate_dates(start_date, num_weeks=104):\n",
    "    dates = [start_date + timedelta(weeks=i) for i in range(num_weeks)]\n",
    "    return dates\n",
    "\n",
    "# Function to generate random project health data\n",
    "def generate_project_health_data(dates):\n",
    "    data = []\n",
    "    project_ids = ['P001', 'P002', 'P003', 'P004']\n",
    "    project_names = ['Project Alpha', 'Project Beta', 'Project Gamma', 'Project Delta']\n",
    "    project_managers = ['John Doe', 'Jane Smith', 'Alice Brown', 'Bob White']\n",
    "    \n",
    "    for date in dates:\n",
    "        for pid, pname, manager in zip(project_ids, project_names, project_managers):\n",
    "            status = np.random.choice(['On Track', 'At Risk', 'Off Track'])\n",
    "            milestones_planned = np.random.randint(5, 15)\n",
    "            milestones_completed = np.random.randint(0, milestones_planned)\n",
    "            data.append([\n",
    "                pid, pname, manager, status, date, \n",
    "                date + timedelta(weeks=np.random.randint(1, 52)), milestones_planned,\n",
    "                milestones_completed, date + timedelta(weeks=np.random.randint(1, 52)), \n",
    "                'Yes' if milestones_completed < milestones_planned else 'No', \n",
    "                round(milestones_completed / milestones_planned * 100, 2)\n",
    "            ])\n",
    "    columns = ['Project ID', 'Project Name', 'Project Manager', 'Status', 'Date', 'End Date', \n",
    "               'Planned Milestones', 'Completed Milestones', 'Milestone Due Date', \n",
    "               'Delay Status', '% Complete']\n",
    "    return pd.DataFrame(data, columns=columns)\n",
    "\n",
    "# Generate the dataset for all 10 slides\n",
    "def generate_dashboard_data():\n",
    "    # Define the start date (January 1, 2023)\n",
    "    start_date = datetime(2023, 1, 1)\n",
    "    dates = generate_dates(start_date)\n",
    "    \n",
    "    # Create Excel file\n",
    "    with pd.ExcelWriter('Project_Manager_Dashboard.xlsx') as writer:\n",
    "        # Project Health Overview (Slide 1)\n",
    "        project_health_df = generate_project_health_data(dates)\n",
    "        project_health_df.to_excel(writer, sheet_name='Project Health Overview', index=False)\n",
    "        \n",
    "        # Add more sheets here for the other slides by creating similar functions\n",
    "        # For brevity, I'm showcasing the first one. You can extend this approach for all other sheets.\n",
    "\n",
    "# Generate data\n",
    "generate_dashboard_data()\n",
    "\n",
    "print(\"Excel file created with project manager dashboard data!\")\n"
   ]
  }
 ],
 "metadata": {
  "kernelspec": {
   "display_name": "Python 3",
   "language": "python",
   "name": "python3"
  },
  "language_info": {
   "codemirror_mode": {
    "name": "ipython",
    "version": 3
   },
   "file_extension": ".py",
   "mimetype": "text/x-python",
   "name": "python",
   "nbconvert_exporter": "python",
   "pygments_lexer": "ipython3",
   "version": "3.12.4"
  }
 },
 "nbformat": 4,
 "nbformat_minor": 2
}
