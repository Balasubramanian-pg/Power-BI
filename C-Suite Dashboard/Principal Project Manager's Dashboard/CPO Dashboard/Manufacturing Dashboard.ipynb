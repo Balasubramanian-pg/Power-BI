{
 "cells": [
  {
   "cell_type": "code",
   "execution_count": 1,
   "metadata": {},
   "outputs": [
    {
     "name": "stdout",
     "output_type": "stream",
     "text": [
      "Dataset saved to F:\\Flipcarbon\\11. November\\C-Suite Dashboards\\Manufacturing_Dashboard_Dataset.xlsx\n"
     ]
    }
   ],
   "source": [
    "import pandas as pd\n",
    "import numpy as np\n",
    "import random\n",
    "import os\n",
    "\n",
    "# Define helper functions for random data\n",
    "def generate_random_data(length, min_val, max_val, decimal_places=2):\n",
    "    return np.round(np.random.uniform(min_val, max_val, length), decimal_places)\n",
    "\n",
    "# Constants\n",
    "weeks = 104\n",
    "start_date = pd.Timestamp(\"2022-01-01\")\n",
    "date_range = pd.date_range(start=start_date, periods=weeks, freq='W')\n",
    "\n",
    "# Initialize data dictionary for each slide\n",
    "data = {}\n",
    "\n",
    "# Slide 1: Overview Dashboard\n",
    "data[\"Overview Dashboard\"] = pd.DataFrame({\n",
    "    \"Date (Week Start)\": date_range,\n",
    "    \"OTIF (%)\": generate_random_data(weeks, 85, 100),\n",
    "    \"Inventory Turnover Rate\": generate_random_data(weeks, 4, 12),\n",
    "    \"Avg Order Fulfillment Time (Days)\": generate_random_data(weeks, 2, 10),\n",
    "    \"Cost-to-Serve ($)\": generate_random_data(weeks, 10, 50),\n",
    "    \"Revenue Contribution ($)\": generate_random_data(weeks, 50000, 100000)\n",
    "})\n",
    "\n",
    "# Slide 2: Production Metrics\n",
    "facilities = [\"Facility A\", \"Facility B\", \"Facility C\"]\n",
    "data[\"Production Metrics\"] = pd.DataFrame({\n",
    "    \"Date (Week Start)\": np.tile(date_range, len(facilities)),\n",
    "    \"Facility\": np.repeat(facilities, weeks),\n",
    "    \"Machine Uptime (%)\": generate_random_data(weeks * len(facilities), 75, 99),\n",
    "    \"Scrap/Waste (%)\": generate_random_data(weeks * len(facilities), 1, 5),\n",
    "    \"Yield Rate (%)\": generate_random_data(weeks * len(facilities), 90, 99),\n",
    "    \"Units Produced\": generate_random_data(weeks * len(facilities), 500, 1500, 0)\n",
    "})\n",
    "\n",
    "# Slide 3: Cost Analysis\n",
    "data[\"Cost Analysis\"] = pd.DataFrame({\n",
    "    \"Date (Week Start)\": np.tile(date_range, len(facilities)),\n",
    "    \"Facility\": np.repeat(facilities, weeks),\n",
    "    \"Total Production Cost ($)\": generate_random_data(weeks * len(facilities), 100000, 500000),\n",
    "    \"Material Cost per Unit ($)\": generate_random_data(weeks * len(facilities), 5, 20),\n",
    "    \"Labor Cost per Unit ($)\": generate_random_data(weeks * len(facilities), 3, 10),\n",
    "    \"Overhead Cost ($)\": generate_random_data(weeks * len(facilities), 10000, 50000)\n",
    "})\n",
    "\n",
    "# Add other slides similarly\n",
    "# ...\n",
    "\n",
    "# Export to Excel\n",
    "output_path = r\"F:\\Flipcarbon\\11. November\\C-Suite Dashboards\\Manufacturing_Dashboard_Dataset.xlsx\"\n",
    "with pd.ExcelWriter(output_path, engine='xlsxwriter') as writer:\n",
    "    for sheet_name, df in data.items():\n",
    "        df.to_excel(writer, sheet_name=sheet_name, index=False)\n",
    "\n",
    "print(f\"Dataset saved to {output_path}\")\n"
   ]
  }
 ],
 "metadata": {
  "kernelspec": {
   "display_name": "Python 3",
   "language": "python",
   "name": "python3"
  },
  "language_info": {
   "codemirror_mode": {
    "name": "ipython",
    "version": 3
   },
   "file_extension": ".py",
   "mimetype": "text/x-python",
   "name": "python",
   "nbconvert_exporter": "python",
   "pygments_lexer": "ipython3",
   "version": "3.12.4"
  }
 },
 "nbformat": 4,
 "nbformat_minor": 2
}
